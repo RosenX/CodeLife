{
 "cells": [
  {
   "cell_type": "markdown",
   "metadata": {},
   "source": [
    "# estimator从文件读数据"
   ]
  },
  {
   "cell_type": "code",
   "execution_count": 1,
   "metadata": {},
   "outputs": [],
   "source": [
    "import sys\n",
    "sys.path.append('model/samples/core/get_started')\n",
    "import iris_data\n",
    "import tensorflow as tf\n",
    "\n",
    "tf.enable_eager_execution()"
   ]
  },
  {
   "cell_type": "code",
   "execution_count": 2,
   "metadata": {},
   "outputs": [],
   "source": [
    "train_path, test_path = iris_data.maybe_download()"
   ]
  },
  {
   "cell_type": "code",
   "execution_count": 3,
   "metadata": {},
   "outputs": [
    {
     "data": {
      "text/plain": [
       "'/Users/rosen/.keras/datasets/iris_training.csv'"
      ]
     },
     "execution_count": 3,
     "metadata": {},
     "output_type": "execute_result"
    }
   ],
   "source": [
    "train_path"
   ]
  },
  {
   "cell_type": "code",
   "execution_count": 4,
   "metadata": {},
   "outputs": [
    {
     "data": {
      "text/plain": [
       "'/Users/rosen/.keras/datasets/iris_test.csv'"
      ]
     },
     "execution_count": 4,
     "metadata": {},
     "output_type": "execute_result"
    }
   ],
   "source": [
    "test_path"
   ]
  },
  {
   "cell_type": "code",
   "execution_count": 5,
   "metadata": {},
   "outputs": [
    {
     "name": "stdout",
     "output_type": "stream",
     "text": [
      "30,4,setosa,versicolor,virginica\n",
      "5.9,3.0,4.2,1.5,1\n",
      "6.9,3.1,5.4,2.1,2\n",
      "5.1,3.3,1.7,0.5,0\n",
      "6.0,3.4,4.5,1.6,1\n",
      "5.5,2.5,4.0,1.3,1\n",
      "6.2,2.9,4.3,1.3,1\n",
      "5.5,4.2,1.4,0.2,0\n",
      "6.3,2.8,5.1,1.5,2\n",
      "5.6,3.0,4.1,1.3,1\n"
     ]
    }
   ],
   "source": [
    "!head /Users/rosen/.keras/datasets/iris_test.csv"
   ]
  },
  {
   "cell_type": "code",
   "execution_count": 6,
   "metadata": {},
   "outputs": [],
   "source": [
    "COLUMNS = ['SepalLength', 'SepalWidth', 'PetalLength', 'PetalWidth', 'label']\n",
    "\n",
    "def _parse_line(line):\n",
    "    FIELD_DEFAULTS = [[0.0], [0.0], [0.0], [0.0], [0]]  \n",
    "    fields = tf.decode_csv(line, FIELD_DEFAULTS)\n",
    "    features = dict(zip(COLUMNS, fields))\n",
    "    label = features.pop('label')\n",
    "    return features, label"
   ]
  },
  {
   "cell_type": "code",
   "execution_count": 7,
   "metadata": {},
   "outputs": [],
   "source": [
    "def csv_input_fn(train_path, batch_size):\n",
    "    ds = tf.data.TextLineDataset(train_path).skip(1)\n",
    "    ds = ds.map(_parse_line).shuffle(1000).repeat().batch(100)\n",
    "    return ds"
   ]
  },
  {
   "cell_type": "code",
   "execution_count": 9,
   "metadata": {},
   "outputs": [
    {
     "name": "stdout",
     "output_type": "stream",
     "text": [
      "INFO:tensorflow:Using default config.\n",
      "WARNING:tensorflow:Using temporary folder as model directory: /var/folders/1r/rmk6zkmx6292q5t2s2pvk_h00000gn/T/tmp5le6i3wf\n",
      "INFO:tensorflow:Using config: {'_model_dir': '/var/folders/1r/rmk6zkmx6292q5t2s2pvk_h00000gn/T/tmp5le6i3wf', '_tf_random_seed': None, '_save_summary_steps': 100, '_save_checkpoints_steps': None, '_save_checkpoints_secs': 600, '_session_config': allow_soft_placement: true\n",
      "graph_options {\n",
      "  rewrite_options {\n",
      "    meta_optimizer_iterations: ONE\n",
      "  }\n",
      "}\n",
      ", '_keep_checkpoint_max': 5, '_keep_checkpoint_every_n_hours': 10000, '_log_step_count_steps': 100, '_train_distribute': None, '_device_fn': None, '_protocol': None, '_eval_distribute': None, '_experimental_distribute': None, '_service': None, '_cluster_spec': <tensorflow.python.training.server_lib.ClusterSpec object at 0x1239c9f28>, '_task_type': 'worker', '_task_id': 0, '_global_id_in_cluster': 0, '_master': '', '_evaluation_master': '', '_is_chief': True, '_num_ps_replicas': 0, '_num_worker_replicas': 1}\n",
      "WARNING:tensorflow:From /Users/rosen/miniconda3/lib/python3.6/site-packages/tensorflow/python/framework/op_def_library.py:263: colocate_with (from tensorflow.python.framework.ops) is deprecated and will be removed in a future version.\n",
      "Instructions for updating:\n",
      "Colocations handled automatically by placer.\n",
      "INFO:tensorflow:Calling model_fn.\n",
      "WARNING:tensorflow:From /Users/rosen/miniconda3/lib/python3.6/site-packages/tensorflow/python/feature_column/feature_column_v2.py:2703: to_float (from tensorflow.python.ops.math_ops) is deprecated and will be removed in a future version.\n",
      "Instructions for updating:\n",
      "Use tf.cast instead.\n",
      "INFO:tensorflow:Done calling model_fn.\n",
      "INFO:tensorflow:Create CheckpointSaverHook.\n",
      "INFO:tensorflow:Graph was finalized.\n",
      "INFO:tensorflow:Running local_init_op.\n",
      "INFO:tensorflow:Done running local_init_op.\n",
      "INFO:tensorflow:Saving checkpoints for 0 into /var/folders/1r/rmk6zkmx6292q5t2s2pvk_h00000gn/T/tmp5le6i3wf/model.ckpt.\n",
      "INFO:tensorflow:loss = 109.86121, step = 1\n",
      "INFO:tensorflow:global_step/sec: 241.744\n",
      "INFO:tensorflow:loss = 30.504744, step = 101 (0.414 sec)\n",
      "INFO:tensorflow:global_step/sec: 240.52\n",
      "INFO:tensorflow:loss = 26.425169, step = 201 (0.416 sec)\n",
      "INFO:tensorflow:global_step/sec: 276.126\n",
      "INFO:tensorflow:loss = 22.160875, step = 301 (0.362 sec)\n",
      "INFO:tensorflow:global_step/sec: 265.038\n",
      "INFO:tensorflow:loss = 18.927935, step = 401 (0.377 sec)\n",
      "INFO:tensorflow:global_step/sec: 263.041\n",
      "INFO:tensorflow:loss = 13.964195, step = 501 (0.381 sec)\n",
      "INFO:tensorflow:global_step/sec: 272.808\n",
      "INFO:tensorflow:loss = 15.855207, step = 601 (0.366 sec)\n",
      "INFO:tensorflow:global_step/sec: 256.458\n",
      "INFO:tensorflow:loss = 14.672359, step = 701 (0.390 sec)\n",
      "INFO:tensorflow:global_step/sec: 246.705\n",
      "INFO:tensorflow:loss = 10.701968, step = 801 (0.405 sec)\n",
      "INFO:tensorflow:global_step/sec: 282.93\n",
      "INFO:tensorflow:loss = 12.825291, step = 901 (0.354 sec)\n",
      "INFO:tensorflow:Saving checkpoints for 1000 into /var/folders/1r/rmk6zkmx6292q5t2s2pvk_h00000gn/T/tmp5le6i3wf/model.ckpt.\n",
      "INFO:tensorflow:Loss for final step: 11.391706.\n"
     ]
    },
    {
     "data": {
      "text/plain": [
       "<tensorflow_estimator.python.estimator.canned.linear.LinearClassifier at 0x120fea6d8>"
      ]
     },
     "execution_count": 9,
     "metadata": {},
     "output_type": "execute_result"
    }
   ],
   "source": [
    "feature_columns = [\n",
    "    tf.feature_column.numeric_column(name)\n",
    "    for name in COLUMNS[:-1]]\n",
    "\n",
    "# Build the estimator\n",
    "est = tf.estimator.LinearClassifier(feature_columns,\n",
    "                                    n_classes=3)\n",
    "# Train the estimator\n",
    "batch_size = 100\n",
    "est.train(\n",
    "    steps=1000,\n",
    "    input_fn=lambda : csv_input_fn(train_path, batch_size))"
   ]
  },
  {
   "cell_type": "code",
   "execution_count": null,
   "metadata": {},
   "outputs": [],
   "source": []
  }
 ],
 "metadata": {
  "kernelspec": {
   "display_name": "Python 3",
   "language": "python",
   "name": "python3"
  },
  "language_info": {
   "codemirror_mode": {
    "name": "ipython",
    "version": 3
   },
   "file_extension": ".py",
   "mimetype": "text/x-python",
   "name": "python",
   "nbconvert_exporter": "python",
   "pygments_lexer": "ipython3",
   "version": "3.6.1"
  }
 },
 "nbformat": 4,
 "nbformat_minor": 2
}
