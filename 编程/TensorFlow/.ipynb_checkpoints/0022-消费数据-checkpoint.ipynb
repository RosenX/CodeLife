{
 "cells": [
  {
   "cell_type": "markdown",
   "metadata": {},
   "source": [
    "# 消费数据"
   ]
  },
  {
   "cell_type": "markdown",
   "metadata": {},
   "source": [
    "Iterator.get_next()并不会立刻迭代，只有当把最终的表达式传递给sess.run()的时候才会进行迭代"
   ]
  },
  {
   "cell_type": "code",
   "execution_count": 1,
   "metadata": {},
   "outputs": [],
   "source": [
    "import tensorflow as tf"
   ]
  },
  {
   "cell_type": "code",
   "execution_count": 2,
   "metadata": {},
   "outputs": [],
   "source": [
    "dataset = tf.data.Dataset.range(5)"
   ]
  },
  {
   "cell_type": "code",
   "execution_count": 3,
   "metadata": {},
   "outputs": [
    {
     "name": "stdout",
     "output_type": "stream",
     "text": [
      "WARNING:tensorflow:From /Users/rosen/miniconda3/lib/python3.6/site-packages/tensorflow/python/data/ops/dataset_ops.py:1419: colocate_with (from tensorflow.python.framework.ops) is deprecated and will be removed in a future version.\n",
      "Instructions for updating:\n",
      "Colocations handled automatically by placer.\n"
     ]
    }
   ],
   "source": [
    "iterator = dataset.make_initializable_iterator()"
   ]
  },
  {
   "cell_type": "code",
   "execution_count": 4,
   "metadata": {},
   "outputs": [],
   "source": [
    "next_element = iterator.get_next()"
   ]
  },
  {
   "cell_type": "code",
   "execution_count": 5,
   "metadata": {},
   "outputs": [],
   "source": [
    "result = tf.add(next_element, next_element)"
   ]
  },
  {
   "cell_type": "code",
   "execution_count": 6,
   "metadata": {},
   "outputs": [],
   "source": [
    "sess = tf.Session()"
   ]
  },
  {
   "cell_type": "code",
   "execution_count": 7,
   "metadata": {},
   "outputs": [],
   "source": [
    "sess.run(iterator.initializer)"
   ]
  },
  {
   "cell_type": "code",
   "execution_count": 8,
   "metadata": {},
   "outputs": [
    {
     "data": {
      "text/plain": [
       "0"
      ]
     },
     "execution_count": 8,
     "metadata": {},
     "output_type": "execute_result"
    }
   ],
   "source": [
    "sess.run(result) # 0+0"
   ]
  },
  {
   "cell_type": "code",
   "execution_count": 9,
   "metadata": {},
   "outputs": [
    {
     "data": {
      "text/plain": [
       "2"
      ]
     },
     "execution_count": 9,
     "metadata": {},
     "output_type": "execute_result"
    }
   ],
   "source": [
    "sess.run(result) # 1+1"
   ]
  },
  {
   "cell_type": "code",
   "execution_count": 10,
   "metadata": {},
   "outputs": [
    {
     "data": {
      "text/plain": [
       "4"
      ]
     },
     "execution_count": 10,
     "metadata": {},
     "output_type": "execute_result"
    }
   ],
   "source": [
    "sess.run(result)"
   ]
  },
  {
   "cell_type": "code",
   "execution_count": 11,
   "metadata": {},
   "outputs": [
    {
     "data": {
      "text/plain": [
       "6"
      ]
     },
     "execution_count": 11,
     "metadata": {},
     "output_type": "execute_result"
    }
   ],
   "source": [
    "sess.run(result)"
   ]
  },
  {
   "cell_type": "code",
   "execution_count": 12,
   "metadata": {},
   "outputs": [
    {
     "data": {
      "text/plain": [
       "8"
      ]
     },
     "execution_count": 12,
     "metadata": {},
     "output_type": "execute_result"
    }
   ],
   "source": [
    "sess.run(result)"
   ]
  },
  {
   "cell_type": "markdown",
   "metadata": {},
   "source": [
    "超出dataset长度会报错"
   ]
  },
  {
   "cell_type": "code",
   "execution_count": 14,
   "metadata": {},
   "outputs": [
    {
     "name": "stdout",
     "output_type": "stream",
     "text": [
      "out of range error\n"
     ]
    }
   ],
   "source": [
    "try:\n",
    "    sess.run(result)\n",
    "except tf.errors.OutOfRangeError:\n",
    "    print('out of range error')"
   ]
  },
  {
   "cell_type": "markdown",
   "metadata": {},
   "source": [
    "## 嵌套结构"
   ]
  },
  {
   "cell_type": "code",
   "execution_count": 16,
   "metadata": {},
   "outputs": [],
   "source": [
    "dataset1 = tf.data.Dataset.from_tensor_slices(tf.random_uniform([4, 10]))"
   ]
  },
  {
   "cell_type": "code",
   "execution_count": 18,
   "metadata": {},
   "outputs": [],
   "source": [
    "dataset2 = tf.data.Dataset.from_tensor_slices(\n",
    "    (tf.random_uniform([4]), tf.random_uniform([4, 100]))\n",
    ")"
   ]
  },
  {
   "cell_type": "code",
   "execution_count": 19,
   "metadata": {},
   "outputs": [],
   "source": [
    "dataset3 = tf.data.Dataset.zip((dataset1, dataset2))"
   ]
  },
  {
   "cell_type": "code",
   "execution_count": 23,
   "metadata": {},
   "outputs": [],
   "source": [
    "iterator = dataset3.make_initializable_iterator()"
   ]
  },
  {
   "cell_type": "code",
   "execution_count": 24,
   "metadata": {},
   "outputs": [],
   "source": [
    "next1, (next2, next3) = iterator.get_next()"
   ]
  },
  {
   "cell_type": "code",
   "execution_count": 43,
   "metadata": {},
   "outputs": [],
   "source": [
    "sess.run(iterator.initializer)"
   ]
  },
  {
   "cell_type": "code",
   "execution_count": 44,
   "metadata": {},
   "outputs": [
    {
     "name": "stdout",
     "output_type": "stream",
     "text": [
      "(array([0.7356199 , 0.18318331, 0.4425161 , 0.19481349, 0.42794418,\n",
      "       0.6551441 , 0.6082299 , 0.16753829, 0.9230876 , 0.696028  ],\n",
      "      dtype=float32), 0.09881127, array([0.36006117, 0.0569874 , 0.39824593, 0.8771783 , 0.6421739 ,\n",
      "       0.5911776 , 0.9164163 , 0.66855514, 0.9394016 , 0.710474  ,\n",
      "       0.9300668 , 0.7276298 , 0.5037416 , 0.03351033, 0.4058528 ,\n",
      "       0.76600826, 0.8161851 , 0.21850884, 0.72846067, 0.39126098,\n",
      "       0.22448826, 0.8357655 , 0.9175477 , 0.94268477, 0.5721954 ,\n",
      "       0.550946  , 0.21401107, 0.9524431 , 0.3855611 , 0.43342817,\n",
      "       0.9408499 , 0.34812427, 0.95636797, 0.04591119, 0.07784712,\n",
      "       0.02007234, 0.40828788, 0.83030796, 0.23905623, 0.70497465,\n",
      "       0.33269978, 0.3444289 , 0.5657537 , 0.10651529, 0.9915291 ,\n",
      "       0.14267969, 0.7826868 , 0.51454175, 0.96922576, 0.54187274,\n",
      "       0.68682337, 0.9784796 , 0.10550284, 0.42526305, 0.7461555 ,\n",
      "       0.26291168, 0.37752295, 0.1767478 , 0.5189904 , 0.84262574,\n",
      "       0.63534606, 0.42819488, 0.7129837 , 0.7086477 , 0.61833024,\n",
      "       0.90737724, 0.6035688 , 0.35379016, 0.29121888, 0.5609242 ,\n",
      "       0.0431304 , 0.873196  , 0.23152757, 0.16496098, 0.2120297 ,\n",
      "       0.15934277, 0.7167982 , 0.30616796, 0.94764924, 0.90044343,\n",
      "       0.11851108, 0.6472933 , 0.7616415 , 0.0703522 , 0.09452868,\n",
      "       0.91133094, 0.5009351 , 0.69772017, 0.21804607, 0.6848022 ,\n",
      "       0.73001385, 0.88772285, 0.96035385, 0.5186125 , 0.38595784,\n",
      "       0.52398837, 0.17307091, 0.57788587, 0.6564969 , 0.80932987],\n",
      "      dtype=float32))\n",
      "(array([0.70300174, 0.52792764, 0.01944363, 0.5728506 , 0.38788414,\n",
      "       0.42182612, 0.4645095 , 0.3866948 , 0.25626826, 0.6020105 ],\n",
      "      dtype=float32), 0.3520745, array([0.32472205, 0.82038057, 0.7002138 , 0.46050704, 0.95677125,\n",
      "       0.8761573 , 0.34689546, 0.27190626, 0.6491548 , 0.34166324,\n",
      "       0.91589737, 0.23781049, 0.57803345, 0.15723908, 0.5769472 ,\n",
      "       0.57424486, 0.00351596, 0.47535813, 0.31371415, 0.34793198,\n",
      "       0.75391126, 0.70791733, 0.66403973, 0.17958486, 0.6320168 ,\n",
      "       0.5925132 , 0.8639569 , 0.4167366 , 0.12495208, 0.42130065,\n",
      "       0.45419037, 0.75274456, 0.39955926, 0.25124228, 0.46486092,\n",
      "       0.22313762, 0.54133785, 0.21267569, 0.9416759 , 0.90776694,\n",
      "       0.94516695, 0.31936228, 0.00597656, 0.56827724, 0.5622256 ,\n",
      "       0.99965215, 0.4970646 , 0.9223745 , 0.0708307 , 0.7104449 ,\n",
      "       0.82704544, 0.46531188, 0.32073748, 0.97122407, 0.29444194,\n",
      "       0.67059505, 0.5515487 , 0.53841364, 0.13322937, 0.03959441,\n",
      "       0.2976066 , 0.8485923 , 0.1642505 , 0.5048698 , 0.48138523,\n",
      "       0.7704046 , 0.8646276 , 0.54482317, 0.21422529, 0.4223925 ,\n",
      "       0.35557413, 0.1654967 , 0.6428014 , 0.5494255 , 0.20479596,\n",
      "       0.71489954, 0.09170365, 0.01309621, 0.7821132 , 0.70244765,\n",
      "       0.67148376, 0.41939616, 0.90386033, 0.13781953, 0.46572244,\n",
      "       0.6948862 , 0.17306852, 0.84701157, 0.4738003 , 0.648244  ,\n",
      "       0.8770844 , 0.44014132, 0.4886464 , 0.7731836 , 0.67663693,\n",
      "       0.64630246, 0.6317383 , 0.08010924, 0.45604992, 0.9485841 ],\n",
      "      dtype=float32))\n",
      "(array([0.20498395, 0.32829702, 0.15749156, 0.37998736, 0.9737241 ,\n",
      "       0.67413867, 0.14682186, 0.08831763, 0.8867383 , 0.9019984 ],\n",
      "      dtype=float32), 0.37554634, array([0.1782099 , 0.39673996, 0.90919435, 0.2898506 , 0.5146613 ,\n",
      "       0.7164922 , 0.00664496, 0.9264573 , 0.11666679, 0.22380304,\n",
      "       0.8563458 , 0.3308344 , 0.9709705 , 0.2312864 , 0.10948479,\n",
      "       0.8592973 , 0.6623403 , 0.9404323 , 0.9141123 , 0.12856841,\n",
      "       0.6214242 , 0.4479767 , 0.951645  , 0.37416613, 0.6264099 ,\n",
      "       0.75697136, 0.8850111 , 0.58850014, 0.05011165, 0.9431131 ,\n",
      "       0.9526508 , 0.25298035, 0.12734139, 0.44386244, 0.74595094,\n",
      "       0.49318612, 0.14825857, 0.89370453, 0.7723266 , 0.66431606,\n",
      "       0.14483035, 0.95776176, 0.18283677, 0.8938254 , 0.6990955 ,\n",
      "       0.91523206, 0.28431988, 0.14139819, 0.50568426, 0.30150938,\n",
      "       0.2941153 , 0.59183645, 0.06610489, 0.7597774 , 0.69101834,\n",
      "       0.3706789 , 0.20137143, 0.6961297 , 0.518615  , 0.84484255,\n",
      "       0.8367809 , 0.5004333 , 0.18370593, 0.23403323, 0.84752214,\n",
      "       0.9823252 , 0.35472953, 0.58838475, 0.96865773, 0.16028523,\n",
      "       0.45843565, 0.11748052, 0.97693443, 0.46545446, 0.76590466,\n",
      "       0.6098895 , 0.71142733, 0.26175725, 0.1874671 , 0.8147099 ,\n",
      "       0.26839077, 0.26759744, 0.70478153, 0.6653695 , 0.77200985,\n",
      "       0.44372332, 0.8058319 , 0.66861606, 0.5089505 , 0.76059055,\n",
      "       0.81013966, 0.5719212 , 0.8051975 , 0.52237785, 0.9219842 ,\n",
      "       0.6345674 , 0.2503513 , 0.34086633, 0.63324845, 0.53567684],\n",
      "      dtype=float32))\n",
      "(array([0.12459624, 0.94549525, 0.4095906 , 0.70855594, 0.5223142 ,\n",
      "       0.35153615, 0.23719299, 0.6430721 , 0.96193767, 0.34070277],\n",
      "      dtype=float32), 0.37033117, array([0.66263986, 0.9295559 , 0.28489816, 0.8634708 , 0.5794581 ,\n",
      "       0.9417044 , 0.4999112 , 0.34006333, 0.22532976, 0.9664023 ,\n",
      "       0.2170074 , 0.05720866, 0.097175  , 0.1318816 , 0.71201885,\n",
      "       0.97250605, 0.21423101, 0.7596376 , 0.06659186, 0.08010769,\n",
      "       0.9836116 , 0.75430596, 0.3401556 , 0.38956285, 0.9270525 ,\n",
      "       0.13803005, 0.40599525, 0.69613457, 0.18600285, 0.93822837,\n",
      "       0.18447733, 0.58889294, 0.9099784 , 0.70589185, 0.56213105,\n",
      "       0.24199414, 0.23532021, 0.16316307, 0.92647886, 0.18182063,\n",
      "       0.57453287, 0.35892904, 0.15917373, 0.92361665, 0.7246777 ,\n",
      "       0.13955331, 0.8316765 , 0.751549  , 0.03232074, 0.4792956 ,\n",
      "       0.12003469, 0.8635167 , 0.42778158, 0.04067171, 0.66513205,\n",
      "       0.98889744, 0.7666799 , 0.15895796, 0.10948157, 0.8816428 ,\n",
      "       0.53397894, 0.11151361, 0.80106103, 0.9883437 , 0.50114155,\n",
      "       0.9218153 , 0.28875697, 0.5518588 , 0.14571965, 0.5156361 ,\n",
      "       0.9637526 , 0.4584236 , 0.49415684, 0.48625994, 0.8805561 ,\n",
      "       0.11157179, 0.3308922 , 0.5629065 , 0.970873  , 0.6004566 ,\n",
      "       0.12517393, 0.77620757, 0.85785496, 0.00208354, 0.728148  ,\n",
      "       0.0329653 , 0.5567399 , 0.07193923, 0.09372938, 0.57018936,\n",
      "       0.89363503, 0.56050456, 0.28201592, 0.0157764 , 0.03756154,\n",
      "       0.66233134, 0.21756208, 0.41119432, 0.03638923, 0.5016837 ],\n",
      "      dtype=float32))\n"
     ]
    }
   ],
   "source": [
    "for i in range(4):\n",
    "    print(sess.run((next1, next2, next3)))"
   ]
  },
  {
   "cell_type": "markdown",
   "metadata": {},
   "source": [
    "dataset1和dataset2每次都会返回一个样本"
   ]
  },
  {
   "cell_type": "code",
   "execution_count": null,
   "metadata": {},
   "outputs": [],
   "source": []
  }
 ],
 "metadata": {
  "kernelspec": {
   "display_name": "Python 3",
   "language": "python",
   "name": "python3"
  },
  "language_info": {
   "codemirror_mode": {
    "name": "ipython",
    "version": 3
   },
   "file_extension": ".py",
   "mimetype": "text/x-python",
   "name": "python",
   "nbconvert_exporter": "python",
   "pygments_lexer": "ipython3",
   "version": "3.6.1"
  }
 },
 "nbformat": 4,
 "nbformat_minor": 2
}
