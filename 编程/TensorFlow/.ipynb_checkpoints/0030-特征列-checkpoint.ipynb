{
 "cells": [
  {
   "cell_type": "markdown",
   "metadata": {},
   "source": [
    "# 特征列"
   ]
  },
  {
   "cell_type": "markdown",
   "metadata": {},
   "source": [
    "特征列是原始数据和estimator之间的媒介\n",
    "\n",
    "![](img/0030-1.png)"
   ]
  },
  {
   "cell_type": "markdown",
   "metadata": {},
   "source": [
    "要定义特征列，需要tf.feature_column模块，这个模块有9个函数\n",
    "\n",
    "![](img/0030-2.png)"
   ]
  },
  {
   "cell_type": "code",
   "execution_count": 2,
   "metadata": {},
   "outputs": [],
   "source": [
    "import tensorflow as tf"
   ]
  },
  {
   "cell_type": "markdown",
   "metadata": {},
   "source": [
    "## numeric_column"
   ]
  },
  {
   "cell_type": "code",
   "execution_count": 3,
   "metadata": {},
   "outputs": [],
   "source": [
    "# Represent a 10x5 matrix in which each cell contains a tf.float32.\n",
    "matrix_feature_column = tf.feature_column.numeric_column(key=\"MyMatrix\",\n",
    "                                                         shape=[10,5], dtype = tf.float64)"
   ]
  },
  {
   "cell_type": "markdown",
   "metadata": {},
   "source": [
    "numeric_column默认使用float32作为数据类型，可以使用dtype指定。特征默认是标量，可以使用shape指定。"
   ]
  },
  {
   "cell_type": "markdown",
   "metadata": {},
   "source": [
    "## 分桶列"
   ]
  },
  {
   "cell_type": "markdown",
   "metadata": {},
   "source": [
    "对数值列分桶可以将单个特征分为多个，将会学习多个权重，会增加模型非线性"
   ]
  },
  {
   "cell_type": "code",
   "execution_count": 5,
   "metadata": {},
   "outputs": [],
   "source": [
    "# First, convert the raw input to a numeric column.\n",
    "numeric_feature_column = tf.feature_column.numeric_column(\"Year\")\n",
    "\n",
    "# Then, bucketize the numeric column on the years 1960, 1980, and 2000.\n",
    "bucketized_feature_column = tf.feature_column.bucketized_column(\n",
    "    source_column = numeric_feature_column,\n",
    "    boundaries = [1960, 1980, 2000])"
   ]
  },
  {
   "cell_type": "markdown",
   "metadata": {},
   "source": [
    "![](img/0030-3.png)"
   ]
  },
  {
   "cell_type": "markdown",
   "metadata": {},
   "source": [
    "## 分类标识列"
   ]
  },
  {
   "cell_type": "markdown",
   "metadata": {},
   "source": [
    "分类标识列类似于分桶列，但是分类标识列中的每个桶标识一个整数"
   ]
  },
  {
   "cell_type": "code",
   "execution_count": 7,
   "metadata": {},
   "outputs": [],
   "source": [
    "# Create categorical output for an integer feature named \"my_feature_b\",\n",
    "# The values of my_feature_b must be >= 0 and < num_buckets\n",
    "identity_feature_column = tf.feature_column.categorical_column_with_identity(\n",
    "    key='my_feature_b',\n",
    "    num_buckets=4) # Values [0, 4)"
   ]
  },
  {
   "cell_type": "markdown",
   "metadata": {},
   "source": [
    "使用以上分类标识列，input_fn必须包含my_feature_b为key，其值必须属于{0,1,2,3}"
   ]
  },
  {
   "cell_type": "markdown",
   "metadata": {},
   "source": [
    "## 分类词汇列"
   ]
  },
  {
   "cell_type": "markdown",
   "metadata": {},
   "source": [
    "分类词汇列会将单词映射成onehot形式\n",
    "\n",
    "![](img/0030-4.png)"
   ]
  },
  {
   "cell_type": "code",
   "execution_count": 10,
   "metadata": {},
   "outputs": [],
   "source": [
    "vocabulary_feature_column = tf.feature_column.categorical_column_with_vocabulary_list(\n",
    "        key='feature_a',\n",
    "        vocabulary_list=[\"kitchenware\", \"electronics\", \"sports\"])"
   ]
  },
  {
   "cell_type": "code",
   "execution_count": 11,
   "metadata": {},
   "outputs": [],
   "source": [
    "vocabulary_feature_column = tf.feature_column.categorical_column_with_vocabulary_file(\n",
    "        key='feature_a',\n",
    "        vocabulary_file=\"product_class.txt\",\n",
    "        vocabulary_size=3)"
   ]
  },
  {
   "cell_type": "markdown",
   "metadata": {},
   "source": [
    "可以指定词典，也可以指定词典文件"
   ]
  },
  {
   "cell_type": "markdown",
   "metadata": {},
   "source": [
    "## 经过哈希处理的列"
   ]
  },
  {
   "cell_type": "markdown",
   "metadata": {},
   "source": [
    "当类别特别多的时候，比如分类词特别多的时候，使用前面的方法会特别消耗内存，而且有时候也不能穷举所有的类别，这个时候可以将分类词分桶"
   ]
  },
  {
   "cell_type": "markdown",
   "metadata": {},
   "source": [
    "`tf.feature_column.categorical_column_with_hash_bucket`会首先将分类词hash到一个整数，然后将这个整数对桶数取余得到桶号"
   ]
  },
  {
   "cell_type": "code",
   "execution_count": 14,
   "metadata": {},
   "outputs": [],
   "source": [
    "hashed_feature_column = tf.feature_column.categorical_column_with_hash_bucket(\n",
    "        key = \"some_feature\",\n",
    "        hash_bucket_size = 100) # The number of categories"
   ]
  },
  {
   "cell_type": "markdown",
   "metadata": {},
   "source": [
    "这种处理方式在大规模数据上训练模型非常有用，如广告模型。当多个特征hash到同一个桶中的时候，可以强迫模型去学习其他特征来区分样本，增加模型泛化性。"
   ]
  },
  {
   "cell_type": "markdown",
   "metadata": {},
   "source": [
    "## 组合列"
   ]
  },
  {
   "cell_type": "markdown",
   "metadata": {},
   "source": [
    "机器学习模型里面，有实际意义的组合特征比单个特征更有用，在广告模型中特别常见，`tf.feature_column.crossed_column `支持组合特征"
   ]
  },
  {
   "cell_type": "code",
   "execution_count": null,
   "metadata": {},
   "outputs": [],
   "source": [
    "def make_dataset(latitude, longitude, labels):\n",
    "    assert latitude.shape == longitude.shape == labels.shape\n",
    "    features = {'latitude': latitude.flatten(),\n",
    "                'longitude': longitude.flatten()}\n",
    "    labels=labels.flatten()\n",
    "    return tf.data.Dataset.from_tensor_slices((features, labels))\n",
    "\n",
    "# Bucketize the latitude and longitude using the `edges`\n",
    "latitude_bucket_fc = tf.feature_column.bucketized_column(\n",
    "    tf.feature_column.numeric_column('latitude'),\n",
    "    list(atlanta.latitude.edges))\n",
    "\n",
    "longitude_bucket_fc = tf.feature_column.bucketized_column(\n",
    "    tf.feature_column.numeric_column('longitude'),\n",
    "    list(atlanta.longitude.edges))\n",
    "\n",
    "# Cross the bucketized columns, using 5000 hash bins.\n",
    "crossed_lat_lon_fc = tf.feature_column.crossed_column(\n",
    "    [latitude_bucket_fc, longitude_bucket_fc], 5000)"
   ]
  },
  {
   "cell_type": "markdown",
   "metadata": {},
   "source": [
    "hash过程大概是：\n",
    "feature_id = Hash64(second_value, Hash64(first_value)) % hash_bucket_size\n",
    "\n",
    "详细介绍参见：https://www.tensorflow.org/api_docs/python/tf/feature_column/crossed_column"
   ]
  },
  {
   "cell_type": "markdown",
   "metadata": {},
   "source": [
    "特征组合后将会以下面的特征进行分类："
   ]
  },
  {
   "cell_type": "code",
   "execution_count": null,
   "metadata": {},
   "outputs": [],
   "source": [
    "fc = [\n",
    "    latitude_bucket_fc,\n",
    "    longitude_bucket_fc,\n",
    "    crossed_lat_lon_fc]\n",
    "\n",
    "# Build and train the Estimator.\n",
    "est = tf.estimator.LinearRegressor(fc, ...)"
   ]
  },
  {
   "cell_type": "markdown",
   "metadata": {},
   "source": [
    "有些反直觉的是，在创建特征组合时，通常仍应在模型中包含原始（未组合）特征（如前面的代码段中所示）。独立的纬度和经度特征有助于模型区分组合特征中发生哈希冲突的样本。"
   ]
  },
  {
   "cell_type": "markdown",
   "metadata": {},
   "source": [
    "## 指标列"
   ]
  },
  {
   "cell_type": "markdown",
   "metadata": {},
   "source": [
    "指标列的输入是分类列，将分类列转成one-hot的形式"
   ]
  },
  {
   "cell_type": "code",
   "execution_count": 20,
   "metadata": {},
   "outputs": [],
   "source": [
    "name = tf.feature_column.indicator_column(tf.feature_column.categorical_column_with_vocabulary_list('name', ['bob', 'george', 'wanda']))"
   ]
  },
  {
   "cell_type": "markdown",
   "metadata": {},
   "source": [
    "## 嵌入列"
   ]
  },
  {
   "cell_type": "markdown",
   "metadata": {},
   "source": [
    "嵌入列的输入也是分类列，嵌入列将稀疏的onehot变量转成稠密向量"
   ]
  },
  {
   "cell_type": "code",
   "execution_count": null,
   "metadata": {},
   "outputs": [],
   "source": [
    "categorical_column = ... # Create any categorical column\n",
    "\n",
    "# Represent the categorical column as an embedding column.\n",
    "# This means creating an embedding vector lookup table with one element for each category.\n",
    "embedding_column = tf.feature_column.embedding_column(\n",
    "    categorical_column=categorical_column,\n",
    "    dimension=embedding_dimensions)"
   ]
  }
 ],
 "metadata": {
  "kernelspec": {
   "display_name": "Python 3",
   "language": "python",
   "name": "python3"
  },
  "language_info": {
   "codemirror_mode": {
    "name": "ipython",
    "version": 3
   },
   "file_extension": ".py",
   "mimetype": "text/x-python",
   "name": "python",
   "nbconvert_exporter": "python",
   "pygments_lexer": "ipython3",
   "version": "3.6.1"
  }
 },
 "nbformat": 4,
 "nbformat_minor": 2
}
