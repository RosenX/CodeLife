{
 "cells": [
  {
   "cell_type": "markdown",
   "metadata": {
    "colab_type": "text",
    "id": "o6lVJPzi50My"
   },
   "source": [
    "# keras初探"
   ]
  },
  {
   "cell_type": "code",
   "execution_count": 1,
   "metadata": {
    "colab": {},
    "colab_type": "code",
    "id": "ydptRiqszwn4"
   },
   "outputs": [],
   "source": [
    "import tensorflow as tf\n",
    "from tensorflow.keras import layers"
   ]
  },
  {
   "cell_type": "code",
   "execution_count": 2,
   "metadata": {
    "colab": {
     "base_uri": "https://localhost:8080/",
     "height": 51
    },
    "colab_type": "code",
    "id": "Zqs0P0sGz_hd",
    "outputId": "7e3e1d65-7b99-4f86-bf99-6b75f5a5b2c0"
   },
   "outputs": [
    {
     "name": "stdout",
     "output_type": "stream",
     "text": [
      "1.13.1\n",
      "2.2.4-tf\n"
     ]
    }
   ],
   "source": [
    "print(tf.VERSION)\n",
    "print(tf.keras.__version__)"
   ]
  },
  {
   "cell_type": "markdown",
   "metadata": {
    "colab_type": "text",
    "id": "ViJMkqr_5vb_"
   },
   "source": [
    "## 定义模型"
   ]
  },
  {
   "cell_type": "code",
   "execution_count": null,
   "metadata": {
    "colab": {
     "base_uri": "https://localhost:8080/",
     "height": 88
    },
    "colab_type": "code",
    "id": "lR8QIzui2F9_",
    "outputId": "55f229e7-8c24-4c80-b49e-1667bbe5afeb"
   },
   "outputs": [],
   "source": [
    "model = tf.keras.Sequential([\n",
    "    layers.Dense(64, activation = 'relu'),\n",
    "    layers.Dense(64, activation = 'relu'),\n",
    "    layers.Dense(10, activation = 'softmax')\n",
    "])\n",
    "\n",
    "model.compile(optimizer = tf.train.AdamOptimizer(0.001), \n",
    "              loss = 'categorical_crossentropy', \n",
    "              metrics = ['accuracy'])"
   ]
  },
  {
   "cell_type": "markdown",
   "metadata": {},
   "source": [
    "各种layer具有一些相同的参数：\n",
    "1. activation：激活函数名称\n",
    "2. kernel_initializer和bias_initializer：权重初始化方案\n",
    "3. kernel_regularizer和bias_regularizer：权重正则化方案\n",
    "\n",
    "complie有3个重要参数：\n",
    "1. optimizer:优化方法，可在tf.train模块中查找\n",
    "2. loss：损失函数，可在tf.keras.losses中查找\n",
    "3. metrics：评估方法，可在tf.keras.metrics中查找"
   ]
  },
  {
   "cell_type": "markdown",
   "metadata": {
    "colab_type": "text",
    "id": "TCLwMBBF57wC"
   },
   "source": [
    "## 运行模型"
   ]
  },
  {
   "cell_type": "code",
   "execution_count": 4,
   "metadata": {
    "colab": {
     "base_uri": "https://localhost:8080/",
     "height": 391
    },
    "colab_type": "code",
    "id": "mvySd5WN36Sc",
    "outputId": "e96b2821-d11e-4c92-9735-bc905e3c0d4c"
   },
   "outputs": [
    {
     "name": "stdout",
     "output_type": "stream",
     "text": [
      "Train on 1000 samples, validate on 100 samples\n",
      "WARNING:tensorflow:From /Users/rosen/miniconda3/lib/python3.6/site-packages/tensorflow/python/ops/math_ops.py:3066: to_int32 (from tensorflow.python.ops.math_ops) is deprecated and will be removed in a future version.\n",
      "Instructions for updating:\n",
      "Use tf.cast instead.\n",
      "Epoch 1/10\n",
      "1000/1000 [==============================] - 0s 182us/sample - loss: 11.5414 - acc: 0.1120 - val_loss: 11.6602 - val_acc: 0.1400\n",
      "Epoch 2/10\n",
      "1000/1000 [==============================] - 0s 39us/sample - loss: 11.4921 - acc: 0.1140 - val_loss: 11.6441 - val_acc: 0.1400\n",
      "Epoch 3/10\n",
      "1000/1000 [==============================] - 0s 39us/sample - loss: 11.4830 - acc: 0.1060 - val_loss: 11.6394 - val_acc: 0.1200\n",
      "Epoch 4/10\n",
      "1000/1000 [==============================] - 0s 41us/sample - loss: 11.4758 - acc: 0.1270 - val_loss: 11.6380 - val_acc: 0.1000\n",
      "Epoch 5/10\n",
      "1000/1000 [==============================] - 0s 52us/sample - loss: 11.4710 - acc: 0.1340 - val_loss: 11.6402 - val_acc: 0.1200\n",
      "Epoch 6/10\n",
      "1000/1000 [==============================] - 0s 41us/sample - loss: 11.4675 - acc: 0.1210 - val_loss: 11.6432 - val_acc: 0.0900\n",
      "Epoch 7/10\n",
      "1000/1000 [==============================] - 0s 42us/sample - loss: 11.4639 - acc: 0.1420 - val_loss: 11.6426 - val_acc: 0.1100\n",
      "Epoch 8/10\n",
      "1000/1000 [==============================] - 0s 44us/sample - loss: 11.4610 - acc: 0.1380 - val_loss: 11.6416 - val_acc: 0.0700\n",
      "Epoch 9/10\n",
      "1000/1000 [==============================] - 0s 41us/sample - loss: 11.4571 - acc: 0.1350 - val_loss: 11.6453 - val_acc: 0.0800\n",
      "Epoch 10/10\n",
      "1000/1000 [==============================] - 0s 40us/sample - loss: 11.4533 - acc: 0.1500 - val_loss: 11.6464 - val_acc: 0.0700\n"
     ]
    },
    {
     "data": {
      "text/plain": [
       "<tensorflow.python.keras.callbacks.History at 0x128894ac8>"
      ]
     },
     "execution_count": 4,
     "metadata": {},
     "output_type": "execute_result"
    }
   ],
   "source": [
    "import numpy as np\n",
    "\n",
    "\n",
    "# 训练数据集\n",
    "data = np.random.random((1000, 32))\n",
    "label = np.random.random((1000, 10))\n",
    "\n",
    "# validation数据集\n",
    "val_data = np.random.random((100, 32))\n",
    "val_labels = np.random.random((100, 10))\n",
    "\n",
    "model.fit(data, label, epochs = 10, batch_size = 32,\n",
    "          validation_data = (val_data, val_labels))"
   ]
  },
  {
   "cell_type": "code",
   "execution_count": null,
   "metadata": {
    "colab": {},
    "colab_type": "code",
    "id": "khkSua924S9J"
   },
   "outputs": [],
   "source": []
  },
  {
   "cell_type": "code",
   "execution_count": null,
   "metadata": {},
   "outputs": [],
   "source": []
  }
 ],
 "metadata": {
  "colab": {
   "collapsed_sections": [],
   "name": "keras初探.ipynb",
   "provenance": [],
   "version": "0.3.2"
  },
  "kernelspec": {
   "display_name": "Python 3",
   "language": "python",
   "name": "python3"
  },
  "language_info": {
   "codemirror_mode": {
    "name": "ipython",
    "version": 3
   },
   "file_extension": ".py",
   "mimetype": "text/x-python",
   "name": "python",
   "nbconvert_exporter": "python",
   "pygments_lexer": "ipython3",
   "version": "3.6.1"
  }
 },
 "nbformat": 4,
 "nbformat_minor": 2
}
