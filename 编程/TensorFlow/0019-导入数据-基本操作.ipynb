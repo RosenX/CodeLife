{
 "cells": [
  {
   "cell_type": "markdown",
   "metadata": {},
   "source": [
    "# 导入数据-基本操作"
   ]
  },
  {
   "cell_type": "markdown",
   "metadata": {},
   "source": [
    "tf.data API可以很方便地从大数据集、不同格式的数据集中建立dataset"
   ]
  },
  {
   "cell_type": "markdown",
   "metadata": {},
   "source": [
    "tf.data有两个重要的抽象：\n",
    "\n",
    "1. tf.data.Dataset是一个序列，每个element包含一个或多个tensor，比如图像数据集中，每个element是一个image或label。有两种创建tf.data.dataset的方法：\n",
    "    - 直接从源tensor创建：如Dataset.from_tensor_slices()\n",
    "    - 从一个或多个tf.data.Dataset创建，如Dataset.batch()\n",
    "2. tf.data.Iterator可以对dataset进行迭代"
   ]
  },
  {
   "cell_type": "markdown",
   "metadata": {},
   "source": [
    "## 基本操作"
   ]
  },
  {
   "cell_type": "markdown",
   "metadata": {},
   "source": [
    "建立data pipeline步骤：\n",
    "1. 从memory数据中创建Dataset：tf.data.Dataset_from_tensors()或tf.data.Dataset.from_tensor_slices()；或者从硬盘中读取数据：tf.data.TFRecordDataset\n",
    "2. 对dataset进行转换：对每个element进行操作Dataset.map()；对多个element进行操作Dataset.batch()\n",
    "3. 消费数据，使用tf.data.Iterator"
   ]
  }
 ],
 "metadata": {
  "kernelspec": {
   "display_name": "Python 3",
   "language": "python",
   "name": "python3"
  },
  "language_info": {
   "codemirror_mode": {
    "name": "ipython",
    "version": 3
   },
   "file_extension": ".py",
   "mimetype": "text/x-python",
   "name": "python",
   "nbconvert_exporter": "python",
   "pygments_lexer": "ipython3",
   "version": "3.6.1"
  }
 },
 "nbformat": 4,
 "nbformat_minor": 2
}
