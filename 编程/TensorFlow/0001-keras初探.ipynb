{
 "cells": [
  {
   "cell_type": "markdown",
   "metadata": {
    "colab_type": "text",
    "id": "o6lVJPzi50My"
   },
   "source": [
    "# keras初探"
   ]
  },
  {
   "cell_type": "markdown",
   "metadata": {},
   "source": [
    "## 1. import"
   ]
  },
  {
   "cell_type": "code",
   "execution_count": 1,
   "metadata": {
    "colab": {},
    "colab_type": "code",
    "id": "ydptRiqszwn4"
   },
   "outputs": [],
   "source": [
    "import tensorflow as tf\n",
    "from tensorflow.keras import layers"
   ]
  },
  {
   "cell_type": "code",
   "execution_count": 2,
   "metadata": {
    "colab": {
     "base_uri": "https://localhost:8080/",
     "height": 51
    },
    "colab_type": "code",
    "id": "Zqs0P0sGz_hd",
    "outputId": "7e3e1d65-7b99-4f86-bf99-6b75f5a5b2c0"
   },
   "outputs": [
    {
     "name": "stdout",
     "output_type": "stream",
     "text": [
      "1.13.1\n",
      "2.2.4-tf\n"
     ]
    }
   ],
   "source": [
    "print(tf.VERSION)\n",
    "print(tf.keras.__version__)"
   ]
  },
  {
   "cell_type": "markdown",
   "metadata": {
    "colab_type": "text",
    "id": "ViJMkqr_5vb_"
   },
   "source": [
    "## 2.定义模型"
   ]
  },
  {
   "cell_type": "code",
   "execution_count": 3,
   "metadata": {
    "colab": {
     "base_uri": "https://localhost:8080/",
     "height": 88
    },
    "colab_type": "code",
    "id": "lR8QIzui2F9_",
    "outputId": "55f229e7-8c24-4c80-b49e-1667bbe5afeb"
   },
   "outputs": [
    {
     "name": "stdout",
     "output_type": "stream",
     "text": [
      "WARNING:tensorflow:From /Users/rosen/miniconda3/lib/python3.6/site-packages/tensorflow/python/ops/resource_variable_ops.py:435: colocate_with (from tensorflow.python.framework.ops) is deprecated and will be removed in a future version.\n",
      "Instructions for updating:\n",
      "Colocations handled automatically by placer.\n"
     ]
    }
   ],
   "source": [
    "model = tf.keras.Sequential([\n",
    "    layers.Dense(64, activation = 'relu'),\n",
    "    layers.Dense(64, activation = 'relu'),\n",
    "    layers.Dense(10, activation = 'softmax')\n",
    "])\n",
    "\n",
    "model.compile(optimizer = tf.train.AdamOptimizer(0.001), \n",
    "              loss = 'categorical_crossentropy', \n",
    "              metrics = ['accuracy'])"
   ]
  },
  {
   "cell_type": "markdown",
   "metadata": {},
   "source": [
    "各种layer具有一些相同的参数：\n",
    "1. activation：激活函数名称\n",
    "2. kernel_initializer和bias_initializer：权重初始化方案\n",
    "3. kernel_regularizer和bias_regularizer：权重正则化方案\n",
    "\n",
    "complie有3个重要参数：\n",
    "1. optimizer:优化方法，可在tf.train模块中查找\n",
    "2. loss：损失函数，可在tf.keras.losses中查找\n",
    "3. metrics：评估方法，可在tf.keras.metrics中查找"
   ]
  },
  {
   "cell_type": "markdown",
   "metadata": {
    "colab_type": "text",
    "id": "TCLwMBBF57wC"
   },
   "source": [
    "## 3.运行模型"
   ]
  },
  {
   "cell_type": "code",
   "execution_count": 4,
   "metadata": {
    "colab": {
     "base_uri": "https://localhost:8080/",
     "height": 391
    },
    "colab_type": "code",
    "id": "mvySd5WN36Sc",
    "outputId": "e96b2821-d11e-4c92-9735-bc905e3c0d4c"
   },
   "outputs": [
    {
     "name": "stdout",
     "output_type": "stream",
     "text": [
      "Train on 1000 samples, validate on 100 samples\n",
      "WARNING:tensorflow:From /Users/rosen/miniconda3/lib/python3.6/site-packages/tensorflow/python/ops/math_ops.py:3066: to_int32 (from tensorflow.python.ops.math_ops) is deprecated and will be removed in a future version.\n",
      "Instructions for updating:\n",
      "Use tf.cast instead.\n",
      "Epoch 1/10\n",
      "1000/1000 [==============================] - 0s 296us/sample - loss: 11.5725 - acc: 0.0930 - val_loss: 11.4623 - val_acc: 0.1600\n",
      "Epoch 2/10\n",
      "1000/1000 [==============================] - 0s 41us/sample - loss: 11.5286 - acc: 0.1090 - val_loss: 11.4568 - val_acc: 0.1000\n",
      "Epoch 3/10\n",
      "1000/1000 [==============================] - 0s 42us/sample - loss: 11.5184 - acc: 0.1140 - val_loss: 11.4511 - val_acc: 0.1100\n",
      "Epoch 4/10\n",
      "1000/1000 [==============================] - 0s 44us/sample - loss: 11.5138 - acc: 0.1290 - val_loss: 11.4501 - val_acc: 0.1100\n",
      "Epoch 5/10\n",
      "1000/1000 [==============================] - 0s 46us/sample - loss: 11.5095 - acc: 0.1380 - val_loss: 11.4492 - val_acc: 0.1000\n",
      "Epoch 6/10\n",
      "1000/1000 [==============================] - 0s 42us/sample - loss: 11.5043 - acc: 0.1250 - val_loss: 11.4498 - val_acc: 0.1400\n",
      "Epoch 7/10\n",
      "1000/1000 [==============================] - 0s 42us/sample - loss: 11.5010 - acc: 0.1400 - val_loss: 11.4510 - val_acc: 0.1200\n",
      "Epoch 8/10\n",
      "1000/1000 [==============================] - 0s 44us/sample - loss: 11.4965 - acc: 0.1430 - val_loss: 11.4508 - val_acc: 0.1300\n",
      "Epoch 9/10\n",
      "1000/1000 [==============================] - 0s 41us/sample - loss: 11.4915 - acc: 0.1550 - val_loss: 11.4544 - val_acc: 0.1300\n",
      "Epoch 10/10\n",
      "1000/1000 [==============================] - 0s 43us/sample - loss: 11.4882 - acc: 0.1640 - val_loss: 11.4562 - val_acc: 0.1300\n"
     ]
    },
    {
     "data": {
      "text/plain": [
       "<tensorflow.python.keras.callbacks.History at 0x110f3fa90>"
      ]
     },
     "execution_count": 4,
     "metadata": {},
     "output_type": "execute_result"
    }
   ],
   "source": [
    "import numpy as np\n",
    "\n",
    "\n",
    "# 训练数据集\n",
    "data = np.random.random((1000, 32))\n",
    "label = np.random.random((1000, 10))\n",
    "\n",
    "# validation数据集\n",
    "val_data = np.random.random((100, 32))\n",
    "val_labels = np.random.random((100, 10))\n",
    "\n",
    "model.fit(data, label, epochs = 10, batch_size = 32,\n",
    "          validation_data = (val_data, val_labels))"
   ]
  },
  {
   "cell_type": "markdown",
   "metadata": {
    "colab": {},
    "colab_type": "code",
    "id": "khkSua924S9J"
   },
   "source": [
    "fit有三个重要参数：\n",
    "1. epochs：一个epoch跑一遍数据\n",
    "2. batch_size: 每次训练输入的样本数\n",
    "3. validation_data: 验证数据集"
   ]
  },
  {
   "cell_type": "markdown",
   "metadata": {},
   "source": [
    "除了直接提供numpy数组作为训练数据外，TensorFlow也提供了datasets api"
   ]
  },
  {
   "cell_type": "code",
   "execution_count": 6,
   "metadata": {},
   "outputs": [],
   "source": [
    "dataset = tf.data.Dataset.from_tensor_slices((data, label))\n",
    "dataset = dataset.batch(32)\n",
    "dataset = dataset.repeat()"
   ]
  },
  {
   "cell_type": "code",
   "execution_count": 7,
   "metadata": {},
   "outputs": [
    {
     "name": "stdout",
     "output_type": "stream",
     "text": [
      "Epoch 1/10\n",
      "30/30 [==============================] - 0s 6ms/step - loss: 11.4767 - acc: 0.1667\n",
      "Epoch 2/10\n",
      "30/30 [==============================] - 0s 1ms/step - loss: 11.4647 - acc: 0.1496\n",
      "Epoch 3/10\n",
      "30/30 [==============================] - 0s 1ms/step - loss: 11.4881 - acc: 0.1656\n",
      "Epoch 4/10\n",
      "30/30 [==============================] - 0s 1ms/step - loss: 11.4334 - acc: 0.1677\n",
      "Epoch 5/10\n",
      "30/30 [==============================] - 0s 1ms/step - loss: 11.4191 - acc: 0.1688\n",
      "Epoch 6/10\n",
      "30/30 [==============================] - 0s 1ms/step - loss: 11.4379 - acc: 0.1763\n",
      "Epoch 7/10\n",
      "30/30 [==============================] - 0s 1ms/step - loss: 11.4439 - acc: 0.1838\n",
      "Epoch 8/10\n",
      "30/30 [==============================] - 0s 1ms/step - loss: 11.4281 - acc: 0.1827\n",
      "Epoch 9/10\n",
      "30/30 [==============================] - 0s 1ms/step - loss: 11.4586 - acc: 0.1923\n",
      "Epoch 10/10\n",
      "30/30 [==============================] - 0s 1ms/step - loss: 11.4297 - acc: 0.2009\n"
     ]
    },
    {
     "data": {
      "text/plain": [
       "<tensorflow.python.keras.callbacks.History at 0x1112524a8>"
      ]
     },
     "execution_count": 7,
     "metadata": {},
     "output_type": "execute_result"
    }
   ],
   "source": [
    "model.fit(dataset, epochs = 10, steps_per_epoch=30)"
   ]
  },
  {
   "cell_type": "markdown",
   "metadata": {},
   "source": [
    "# 评估和预测"
   ]
  },
  {
   "cell_type": "code",
   "execution_count": 9,
   "metadata": {},
   "outputs": [
    {
     "name": "stdout",
     "output_type": "stream",
     "text": [
      "1000/1000 [==============================] - 0s 53us/sample - loss: 11.4786 - acc: 0.1050\n"
     ]
    },
    {
     "data": {
      "text/plain": [
       "[11.478636947631836, 0.105]"
      ]
     },
     "execution_count": 9,
     "metadata": {},
     "output_type": "execute_result"
    }
   ],
   "source": [
    "data = np.random.random((1000, 32))\n",
    "labels = np.random.random((1000, 10))\n",
    "model.evaluate(data, labels, batch_size = 32)"
   ]
  },
  {
   "cell_type": "code",
   "execution_count": 10,
   "metadata": {},
   "outputs": [
    {
     "name": "stdout",
     "output_type": "stream",
     "text": [
      "30/30 [==============================] - 0s 4ms/step - loss: 11.4291 - acc: 0.2083\n"
     ]
    },
    {
     "data": {
      "text/plain": [
       "[11.42914768854777, 0.20833333]"
      ]
     },
     "execution_count": 10,
     "metadata": {},
     "output_type": "execute_result"
    }
   ],
   "source": [
    "model.evaluate(dataset, steps = 30)"
   ]
  },
  {
   "cell_type": "code",
   "execution_count": 11,
   "metadata": {},
   "outputs": [],
   "source": [
    "result = model.predict(data, batch_size =32)"
   ]
  },
  {
   "cell_type": "code",
   "execution_count": 12,
   "metadata": {},
   "outputs": [
    {
     "name": "stdout",
     "output_type": "stream",
     "text": [
      "(1000, 10)\n"
     ]
    }
   ],
   "source": [
    "print(result.shape)"
   ]
  },
  {
   "cell_type": "code",
   "execution_count": null,
   "metadata": {},
   "outputs": [],
   "source": []
  }
 ],
 "metadata": {
  "colab": {
   "collapsed_sections": [],
   "name": "keras初探.ipynb",
   "provenance": [],
   "version": "0.3.2"
  },
  "kernelspec": {
   "display_name": "Python 3",
   "language": "python",
   "name": "python3"
  },
  "language_info": {
   "codemirror_mode": {
    "name": "ipython",
    "version": 3
   },
   "file_extension": ".py",
   "mimetype": "text/x-python",
   "name": "python",
   "nbconvert_exporter": "python",
   "pygments_lexer": "ipython3",
   "version": "3.6.1"
  }
 },
 "nbformat": 4,
 "nbformat_minor": 2
}
