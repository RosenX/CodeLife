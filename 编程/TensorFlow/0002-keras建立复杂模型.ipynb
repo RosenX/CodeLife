{
 "cells": [
  {
   "cell_type": "markdown",
   "metadata": {},
   "source": [
    "# Keras建立复杂模型"
   ]
  },
  {
   "cell_type": "markdown",
   "metadata": {},
   "source": [
    "可以使用keras functional API去建立复杂模型：[Keras functional API](https://keras.io/getting-started/functional-api-guide/)"
   ]
  },
  {
   "cell_type": "code",
   "execution_count": 12,
   "metadata": {},
   "outputs": [],
   "source": [
    "import tensorflow as tf\n",
    "from tensorflow import keras as K\n",
    "import numpy as np"
   ]
  },
  {
   "cell_type": "markdown",
   "metadata": {},
   "source": [
    "## 定义计算过程"
   ]
  },
  {
   "cell_type": "code",
   "execution_count": 5,
   "metadata": {},
   "outputs": [
    {
     "name": "stdout",
     "output_type": "stream",
     "text": [
      "WARNING:tensorflow:From /Users/rosen/miniconda3/lib/python3.6/site-packages/tensorflow/python/ops/resource_variable_ops.py:435: colocate_with (from tensorflow.python.framework.ops) is deprecated and will be removed in a future version.\n",
      "Instructions for updating:\n",
      "Colocations handled automatically by placer.\n"
     ]
    }
   ],
   "source": [
    "inputs = K.Input(shape=(32,))\n",
    "x = K.layers.Dense(64, activation='relu')(inputs)\n",
    "x = K.layers.Dense(64, activation='relu')(x)\n",
    "predictions = K.layers.Dense(10, activation='softmax')(x)"
   ]
  },
  {
   "cell_type": "markdown",
   "metadata": {},
   "source": [
    "## 加载数据"
   ]
  },
  {
   "cell_type": "code",
   "execution_count": 13,
   "metadata": {},
   "outputs": [],
   "source": [
    "data = np.random.random((1000, 32))\n",
    "labels = np.random.random((1000, 10))"
   ]
  },
  {
   "cell_type": "markdown",
   "metadata": {},
   "source": [
    "## 创建模型并训练"
   ]
  },
  {
   "cell_type": "code",
   "execution_count": 14,
   "metadata": {},
   "outputs": [
    {
     "name": "stdout",
     "output_type": "stream",
     "text": [
      "WARNING:tensorflow:From /Users/rosen/miniconda3/lib/python3.6/site-packages/tensorflow/python/ops/math_ops.py:3066: to_int32 (from tensorflow.python.ops.math_ops) is deprecated and will be removed in a future version.\n",
      "Instructions for updating:\n",
      "Use tf.cast instead.\n",
      "Epoch 1/5\n",
      "1000/1000 [==============================] - 0s 144us/sample - loss: 11.6436 - acc: 0.0970\n",
      "Epoch 2/5\n",
      "1000/1000 [==============================] - 0s 33us/sample - loss: 11.5335 - acc: 0.0890\n",
      "Epoch 3/5\n",
      "1000/1000 [==============================] - 0s 37us/sample - loss: 11.4942 - acc: 0.0850\n",
      "Epoch 4/5\n",
      "1000/1000 [==============================] - 0s 34us/sample - loss: 11.4819 - acc: 0.0900\n",
      "Epoch 5/5\n",
      "1000/1000 [==============================] - 0s 34us/sample - loss: 11.4720 - acc: 0.1010\n"
     ]
    },
    {
     "data": {
      "text/plain": [
       "<tensorflow.python.keras.callbacks.History at 0x10ed492e8>"
      ]
     },
     "execution_count": 14,
     "metadata": {},
     "output_type": "execute_result"
    }
   ],
   "source": [
    "model = K.Model(inputs = inputs, outputs = predictions)\n",
    "model.compile(optimizer = tf.train.RMSPropOptimizer(0.001), \n",
    "              loss = 'categorical_crossentropy', metrics = ['accuracy'])\n",
    "model.fit(data, labels, batch_size = 32, epochs = 5)"
   ]
  },
  {
   "cell_type": "markdown",
   "metadata": {},
   "source": [
    "## 总结"
   ]
  },
  {
   "cell_type": "markdown",
   "metadata": {},
   "source": [
    "keras自定义模型的方法：\n",
    "1. 创建输入tensor\n",
    "2. 定义计算过程\n",
    "3. 得到输出tensor\n",
    "4. 将输入tensor和输出tensor绑定到kersa.Model"
   ]
  },
  {
   "cell_type": "code",
   "execution_count": null,
   "metadata": {},
   "outputs": [],
   "source": []
  }
 ],
 "metadata": {
  "kernelspec": {
   "display_name": "Python 3",
   "language": "python",
   "name": "python3"
  },
  "language_info": {
   "codemirror_mode": {
    "name": "ipython",
    "version": 3
   },
   "file_extension": ".py",
   "mimetype": "text/x-python",
   "name": "python",
   "nbconvert_exporter": "python",
   "pygments_lexer": "ipython3",
   "version": "3.6.1"
  }
 },
 "nbformat": 4,
 "nbformat_minor": 2
}
